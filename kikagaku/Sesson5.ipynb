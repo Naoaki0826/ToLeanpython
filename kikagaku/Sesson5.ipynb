{
 "metadata": {
  "language_info": {
   "codemirror_mode": {
    "name": "ipython",
    "version": 3
   },
   "file_extension": ".py",
   "mimetype": "text/x-python",
   "name": "python",
   "nbconvert_exporter": "python",
   "pygments_lexer": "ipython3",
   "version": "3.8.5"
  },
  "orig_nbformat": 2,
  "kernelspec": {
   "name": "python3",
   "display_name": "Python 3.8.5 64-bit ('3.8.5': pyenv)",
   "metadata": {
    "interpreter": {
     "hash": "40f0aa7cb53c514384145c8233a75c82c384db7f0b9e58264fdf777852089e81"
    }
   }
  }
 },
 "nbformat": 4,
 "nbformat_minor": 2,
 "cells": [
  {
   "cell_type": "code",
   "execution_count": 1,
   "metadata": {},
   "outputs": [
    {
     "output_type": "stream",
     "name": "stdout",
     "text": [
      "1\n"
     ]
    }
   ],
   "source": [
    "a = 1\n",
    "print(a)"
   ]
  },
  {
   "cell_type": "code",
   "execution_count": 2,
   "metadata": {},
   "outputs": [
    {
     "output_type": "execute_result",
     "data": {
      "text/plain": [
       "1"
      ]
     },
     "metadata": {},
     "execution_count": 2
    }
   ],
   "source": [
    "a"
   ]
  },
  {
   "cell_type": "code",
   "execution_count": 3,
   "metadata": {},
   "outputs": [
    {
     "output_type": "execute_result",
     "data": {
      "text/plain": [
       "True"
      ]
     },
     "metadata": {},
     "execution_count": 3
    }
   ],
   "source": [
    "1 < 2"
   ]
  },
  {
   "cell_type": "code",
   "execution_count": 5,
   "metadata": {},
   "outputs": [
    {
     "output_type": "execute_result",
     "data": {
      "text/plain": [
       "False"
      ]
     },
     "metadata": {},
     "execution_count": 5
    }
   ],
   "source": [
    "a = 3\n",
    "a < 2"
   ]
  },
  {
   "cell_type": "code",
   "execution_count": 6,
   "metadata": {},
   "outputs": [
    {
     "output_type": "execute_result",
     "data": {
      "text/plain": [
       "True"
      ]
     },
     "metadata": {},
     "execution_count": 6
    }
   ],
   "source": [
    "a == 3"
   ]
  },
  {
   "cell_type": "code",
   "execution_count": 7,
   "metadata": {},
   "outputs": [
    {
     "output_type": "execute_result",
     "data": {
      "text/plain": [
       "False"
      ]
     },
     "metadata": {},
     "execution_count": 7
    }
   ],
   "source": [
    "a == 4"
   ]
  },
  {
   "cell_type": "code",
   "execution_count": 8,
   "metadata": {},
   "outputs": [
    {
     "output_type": "execute_result",
     "data": {
      "text/plain": [
       "False"
      ]
     },
     "metadata": {},
     "execution_count": 8
    }
   ],
   "source": [
    "a != 3"
   ]
  },
  {
   "cell_type": "code",
   "execution_count": 9,
   "metadata": {},
   "outputs": [
    {
     "output_type": "stream",
     "name": "stdout",
     "text": [
      "aaaaaaaaa \n bbbbbbbbb\n"
     ]
    }
   ],
   "source": [
    "print(\"aaaaaaaaa \\n bbbbbbbbb\")"
   ]
  },
  {
   "source": [
    "List = [1, 2, 3, 4 ,5 ,6 ,7 ,8]\n",
    "List"
   ],
   "cell_type": "code",
   "metadata": {},
   "execution_count": 13,
   "outputs": [
    {
     "output_type": "execute_result",
     "data": {
      "text/plain": [
       "[1, 2, 3, 4, 5, 6, 7, 8]"
      ]
     },
     "metadata": {},
     "execution_count": 13
    }
   ]
  },
  {
   "cell_type": "code",
   "execution_count": 14,
   "metadata": {},
   "outputs": [
    {
     "output_type": "execute_result",
     "data": {
      "text/plain": [
       "[1, 2, 3]"
      ]
     },
     "metadata": {},
     "execution_count": 14
    }
   ],
   "source": [
    "List[0:3]"
   ]
  },
  {
   "cell_type": "code",
   "execution_count": 15,
   "metadata": {},
   "outputs": [
    {
     "output_type": "execute_result",
     "data": {
      "text/plain": [
       "[1, 2, 3]"
      ]
     },
     "metadata": {},
     "execution_count": 15
    }
   ],
   "source": [
    "List[:3]"
   ]
  },
  {
   "cell_type": "code",
   "execution_count": 18,
   "metadata": {},
   "outputs": [
    {
     "output_type": "execute_result",
     "data": {
      "text/plain": [
       "[4, 5, 6, 7, 8]"
      ]
     },
     "metadata": {},
     "execution_count": 18
    }
   ],
   "source": [
    "List[3:]"
   ]
  },
  {
   "cell_type": "code",
   "execution_count": 21,
   "metadata": {},
   "outputs": [
    {
     "output_type": "execute_result",
     "data": {
      "text/plain": [
       "[1, 10, 3, 4, 5, 6, 7, 8]"
      ]
     },
     "metadata": {},
     "execution_count": 21
    }
   ],
   "source": [
    "List[1] = 10\n",
    "List"
   ]
  },
  {
   "cell_type": "code",
   "execution_count": 22,
   "metadata": {},
   "outputs": [
    {
     "output_type": "execute_result",
     "data": {
      "text/plain": [
       "['Hello', 'World', 3, 3.14]"
      ]
     },
     "metadata": {},
     "execution_count": 22
    }
   ],
   "source": [
    "words = [\"Hello\", \"World\", 3 , 3.14]\n",
    "words"
   ]
  },
  {
   "cell_type": "code",
   "execution_count": 25,
   "metadata": {},
   "outputs": [
    {
     "output_type": "execute_result",
     "data": {
      "text/plain": [
       "(4, 5, 6, 7)"
      ]
     },
     "metadata": {},
     "execution_count": 25
    }
   ],
   "source": [
    "tuple_1 = (4, 5, 6, 7)\n",
    "tuple_1"
   ]
  },
  {
   "cell_type": "code",
   "execution_count": 30,
   "metadata": {},
   "outputs": [
    {
     "output_type": "execute_result",
     "data": {
      "text/plain": [
       "{'Math': 90, 'Sience': 80, 'English': 75}"
      ]
     },
     "metadata": {},
     "execution_count": 30
    }
   ],
   "source": [
    "#辞書型\n",
    "results = {\"Math\": 90, \"Sience\": 80, \"English\": 75}\n",
    "results\n"
   ]
  },
  {
   "cell_type": "code",
   "execution_count": 31,
   "metadata": {},
   "outputs": [
    {
     "output_type": "execute_result",
     "data": {
      "text/plain": [
       "90"
      ]
     },
     "metadata": {},
     "execution_count": 31
    }
   ],
   "source": [
    "results[\"Math\"]"
   ]
  },
  {
   "cell_type": "code",
   "execution_count": 32,
   "metadata": {},
   "outputs": [
    {
     "output_type": "stream",
     "name": "stdout",
     "text": [
      "0\n1\n2\n3\n4\n"
     ]
    }
   ],
   "source": [
    "#For文\n",
    "for i in range(5):\n",
    "    print(i)"
   ]
  },
  {
   "cell_type": "code",
   "execution_count": 40,
   "metadata": {},
   "outputs": [
    {
     "output_type": "stream",
     "name": "stdout",
     "text": [
      "Sato-san\nSuzuki-san\nTakahashi-san\n"
     ]
    }
   ],
   "source": [
    "names = [\"Sato\", \"Suzuki\", \"Takahashi\"]\n",
    "for i in range(3):\n",
    "    print(names[i] + \"-san\")\n"
   ]
  },
  {
   "cell_type": "code",
   "execution_count": 41,
   "metadata": {},
   "outputs": [
    {
     "output_type": "stream",
     "name": "stdout",
     "text": [
      "Sato-san\nSuzuki-san\nTakahashi-san\nYoshida-san\n"
     ]
    }
   ],
   "source": [
    "names = [\"Sato\", \"Suzuki\", \"Takahashi\", \"Yoshida\"]\n",
    "for i in range(len(names)):\n",
    "    print(names[i] + \"-san\")"
   ]
  },
  {
   "cell_type": "code",
   "execution_count": 42,
   "metadata": {},
   "outputs": [
    {
     "output_type": "stream",
     "name": "stdout",
     "text": [
      "Sato\nSuzuki\nTakahashi\nYoshida\n"
     ]
    }
   ],
   "source": [
    "for a in names:\n",
    "    print(a)"
   ]
  },
  {
   "cell_type": "code",
   "execution_count": 44,
   "metadata": {},
   "outputs": [
    {
     "output_type": "stream",
     "name": "stdout",
     "text": [
      "Sato-san\nSuzuki-san\nTakahashi-san\nYoshida-san\n"
     ]
    }
   ],
   "source": [
    "for name in names:\n",
    "    print(name + \"-san\")"
   ]
  },
  {
   "cell_type": "code",
   "execution_count": 49,
   "metadata": {},
   "outputs": [
    {
     "output_type": "stream",
     "name": "stdout",
     "text": [
      "It's Zero\n"
     ]
    }
   ],
   "source": [
    "# if文\n",
    "val = 0\n",
    "\n",
    "if val > 0:\n",
    "    print(\"It's positive\")\n",
    "elif val==0:\n",
    "    print(\"It's Zero\")\n",
    "else:\n",
    "    print(\"It's negative\")\n",
    "    "
   ]
  },
  {
   "cell_type": "code",
   "execution_count": 51,
   "metadata": {},
   "outputs": [
    {
     "output_type": "stream",
     "name": "stdout",
     "text": [
      "Hello!!\n"
     ]
    }
   ],
   "source": [
    "#関数\n",
    "def say_hello():\n",
    "    print(\"Hello!!\")\n",
    "\n",
    "say_hello()"
   ]
  },
  {
   "cell_type": "code",
   "execution_count": 54,
   "metadata": {},
   "outputs": [
    {
     "output_type": "stream",
     "name": "stdout",
     "text": [
      "Hello!!Suzuki san\n"
     ]
    }
   ],
   "source": [
    "#引数のある関数\n",
    "def say_hello2(name):\n",
    "    print(\"Hello!!\" + name + \" san\")\n",
    "\n",
    "say_hello2(\"Suzuki\")\n"
   ]
  },
  {
   "cell_type": "code",
   "execution_count": 55,
   "metadata": {},
   "outputs": [
    {
     "output_type": "execute_result",
     "data": {
      "text/plain": [
       "8"
      ]
     },
     "metadata": {},
     "execution_count": 55
    }
   ],
   "source": [
    "#出力(返り値)のある関数\n",
    "def add(a, b):\n",
    "    return a + b\n",
    "\n",
    "result = add(3 ,5)\n",
    "result"
   ]
  },
  {
   "cell_type": "code",
   "execution_count": 56,
   "metadata": {},
   "outputs": [
    {
     "output_type": "execute_result",
     "data": {
      "text/plain": [
       "1"
      ]
     },
     "metadata": {},
     "execution_count": 56
    }
   ],
   "source": [
    "def abs(num):\n",
    "    if num < 0:\n",
    "        return num * -1\n",
    "    else:\n",
    "        return num\n",
    "\n",
    "result = abs(-1)\n",
    "result"
   ]
  },
  {
   "cell_type": "code",
   "execution_count": 4,
   "metadata": {},
   "outputs": [
    {
     "output_type": "execute_result",
     "data": {
      "text/plain": [
       "2.05"
      ]
     },
     "metadata": {},
     "execution_count": 4
    }
   ],
   "source": [
    "import numpy as np\n",
    "\n",
    "#ベクトルの定義\n",
    "x = np.array([1, 2, 3])\n",
    "y = np.array([2., 3.9, 6.1])\n",
    "\n",
    "\n",
    "x_ave = x.mean()\n",
    "y_ave = y.mean()\n",
    "\n",
    "x_center = x - x_ave\n",
    "y_center = y - y_ave\n",
    "\n",
    "xx = x_center * x_center\n",
    "xy = x_center * y_center\n",
    "\n",
    "a = xy.sum() / xx.sum()\n",
    "a\n"
   ]
  },
  {
   "cell_type": "code",
   "execution_count": 6,
   "metadata": {},
   "outputs": [
    {
     "output_type": "stream",
     "name": "stdout",
     "text": [
      "         x         y\n0   40.362  137500.0\n1   40.686  132500.0\n2   38.430   93000.0\n3   36.822   96500.0\n4   37.002  100500.0\n..     ...       ...\n95  47.250  250000.0\n96  43.722  166500.0\n97  42.642  151500.0\n98  43.644  173000.0\n99  41.850  174500.0\n\n[100 rows x 2 columns]\n"
     ]
    }
   ],
   "source": [
    "import pandas as pd \n",
    "\n",
    "# data frame\n",
    "df = pd.read_csv('sample.csv')\n",
    "print(df)"
   ]
  },
  {
   "cell_type": "code",
   "execution_count": 7,
   "metadata": {},
   "outputs": [],
   "source": [
    "x = df['x']\n",
    "y = df['y']"
   ]
  },
  {
   "cell_type": "code",
   "execution_count": 10,
   "metadata": {},
   "outputs": [
    {
     "output_type": "display_data",
     "data": {
      "text/plain": "<Figure size 432x288 with 1 Axes>",
      "image/svg+xml": "<?xml version=\"1.0\" encoding=\"utf-8\" standalone=\"no\"?>\n<!DOCTYPE svg PUBLIC \"-//W3C//DTD SVG 1.1//EN\"\n  \"http://www.w3.org/Graphics/SVG/1.1/DTD/svg11.dtd\">\n<!-- Created with matplotlib (https://matplotlib.org/) -->\n<svg height=\"248.518125pt\" version=\"1.1\" viewBox=\"0 0 394.375 248.518125\" width=\"394.375pt\" xmlns=\"http://www.w3.org/2000/svg\" xmlns:xlink=\"http://www.w3.org/1999/xlink\">\n <metadata>\n  <rdf:RDF xmlns:cc=\"http://creativecommons.org/ns#\" xmlns:dc=\"http://purl.org/dc/elements/1.1/\" xmlns:rdf=\"http://www.w3.org/1999/02/22-rdf-syntax-ns#\">\n   <cc:Work>\n    <dc:type rdf:resource=\"http://purl.org/dc/dcmitype/StillImage\"/>\n    <dc:date>2021-04-09T00:05:55.550026</dc:date>\n    <dc:format>image/svg+xml</dc:format>\n    <dc:creator>\n     <cc:Agent>\n      <dc:title>Matplotlib v3.3.3, https://matplotlib.org/</dc:title>\n     </cc:Agent>\n    </dc:creator>\n   </cc:Work>\n  </rdf:RDF>\n </metadata>\n <defs>\n  <style type=\"text/css\">*{stroke-linecap:butt;stroke-linejoin:round;}</style>\n </defs>\n <g id=\"figure_1\">\n  <g id=\"patch_1\">\n   <path d=\"M 0 248.518125 \nL 394.375 248.518125 \nL 394.375 0 \nL 0 0 \nz\n\" style=\"fill:none;\"/>\n  </g>\n  <g id=\"axes_1\">\n   <g id=\"patch_2\">\n    <path d=\"M 52.375 224.64 \nL 387.175 224.64 \nL 387.175 7.2 \nL 52.375 7.2 \nz\n\" style=\"fill:#ffffff;\"/>\n   </g>\n   <g id=\"PathCollection_1\">\n    <defs>\n     <path d=\"M 0 3 \nC 0.795609 3 1.55874 2.683901 2.12132 2.12132 \nC 2.683901 1.55874 3 0.795609 3 0 \nC 3 -0.795609 2.683901 -1.55874 2.12132 -2.12132 \nC 1.55874 -2.683901 0.795609 -3 0 -3 \nC -0.795609 -3 -1.55874 -2.683901 -2.12132 -2.12132 \nC -2.683901 -1.55874 -3 -0.795609 -3 0 \nC -3 0.795609 -2.683901 1.55874 -2.12132 2.12132 \nC -1.55874 2.683901 -0.795609 3 0 3 \nz\n\" id=\"m5944013c2f\" style=\"stroke:#1f77b4;\"/>\n    </defs>\n    <g clip-path=\"url(#pd8bbc4c611)\">\n     <use style=\"fill:#1f77b4;stroke:#1f77b4;\" x=\"227.489286\" xlink:href=\"#m5944013c2f\" y=\"133.513908\"/>\n     <use style=\"fill:#1f77b4;stroke:#1f77b4;\" x=\"232.223052\" xlink:href=\"#m5944013c2f\" y=\"138.688586\"/>\n     <use style=\"fill:#1f77b4;stroke:#1f77b4;\" x=\"199.262013\" xlink:href=\"#m5944013c2f\" y=\"179.568548\"/>\n     <use style=\"fill:#1f77b4;stroke:#1f77b4;\" x=\"175.768506\" xlink:href=\"#m5944013c2f\" y=\"175.946273\"/>\n     <use style=\"fill:#1f77b4;stroke:#1f77b4;\" x=\"178.398377\" xlink:href=\"#m5944013c2f\" y=\"171.80653\"/>\n     <use style=\"fill:#1f77b4;stroke:#1f77b4;\" x=\"150.697078\" xlink:href=\"#m5944013c2f\" y=\"174.911337\"/>\n     <use style=\"fill:#1f77b4;stroke:#1f77b4;\" x=\"149.382143\" xlink:href=\"#m5944013c2f\" y=\"174.911337\"/>\n     <use style=\"fill:#1f77b4;stroke:#1f77b4;\" x=\"174.891883\" xlink:href=\"#m5944013c2f\" y=\"170.254127\"/>\n     <use style=\"fill:#1f77b4;stroke:#1f77b4;\" x=\"205.310714\" xlink:href=\"#m5944013c2f\" y=\"173.358934\"/>\n     <use style=\"fill:#1f77b4;stroke:#1f77b4;\" x=\"183.833442\" xlink:href=\"#m5944013c2f\" y=\"175.428805\"/>\n     <use style=\"fill:#1f77b4;stroke:#1f77b4;\" x=\"180.852922\" xlink:href=\"#m5944013c2f\" y=\"163.527044\"/>\n     <use style=\"fill:#1f77b4;stroke:#1f77b4;\" x=\"226.437338\" xlink:href=\"#m5944013c2f\" y=\"157.834898\"/>\n     <use style=\"fill:#1f77b4;stroke:#1f77b4;\" x=\"156.132143\" xlink:href=\"#m5944013c2f\" y=\"178.533613\"/>\n     <use style=\"fill:#1f77b4;stroke:#1f77b4;\" x=\"171.823701\" xlink:href=\"#m5944013c2f\" y=\"179.05108\"/>\n     <use style=\"fill:#1f77b4;stroke:#1f77b4;\" x=\"186.025\" xlink:href=\"#m5944013c2f\" y=\"180.086016\"/>\n     <use style=\"fill:#1f77b4;stroke:#1f77b4;\" x=\"157.447078\" xlink:href=\"#m5944013c2f\" y=\"181.120952\"/>\n     <use style=\"fill:#1f77b4;stroke:#1f77b4;\" x=\"179.187338\" xlink:href=\"#m5944013c2f\" y=\"166.114384\"/>\n     <use style=\"fill:#1f77b4;stroke:#1f77b4;\" x=\"165.599675\" xlink:href=\"#m5944013c2f\" y=\"176.463741\"/>\n     <use style=\"fill:#1f77b4;stroke:#1f77b4;\" x=\"152.537987\" xlink:href=\"#m5944013c2f\" y=\"170.254127\"/>\n     <use style=\"fill:#1f77b4;stroke:#1f77b4;\" x=\"140.177597\" xlink:href=\"#m5944013c2f\" y=\"175.946273\"/>\n     <use style=\"fill:#1f77b4;stroke:#1f77b4;\" x=\"152.362662\" xlink:href=\"#m5944013c2f\" y=\"161.974641\"/>\n     <use style=\"fill:#1f77b4;stroke:#1f77b4;\" x=\"164.109416\" xlink:href=\"#m5944013c2f\" y=\"170.771594\"/>\n     <use style=\"fill:#1f77b4;stroke:#1f77b4;\" x=\"160.339935\" xlink:href=\"#m5944013c2f\" y=\"169.736659\"/>\n     <use style=\"fill:#1f77b4;stroke:#1f77b4;\" x=\"151.13539\" xlink:href=\"#m5944013c2f\" y=\"186.295631\"/>\n     <use style=\"fill:#1f77b4;stroke:#1f77b4;\" x=\"153.151623\" xlink:href=\"#m5944013c2f\" y=\"178.533613\"/>\n     <use style=\"fill:#1f77b4;stroke:#1f77b4;\" x=\"162.531494\" xlink:href=\"#m5944013c2f\" y=\"165.079448\"/>\n     <use style=\"fill:#1f77b4;stroke:#1f77b4;\" x=\"129.833442\" xlink:href=\"#m5944013c2f\" y=\"194.575117\"/>\n     <use style=\"fill:#1f77b4;stroke:#1f77b4;\" x=\"136.846429\" xlink:href=\"#m5944013c2f\" y=\"191.987777\"/>\n     <use style=\"fill:#1f77b4;stroke:#1f77b4;\" x=\"201.541234\" xlink:href=\"#m5944013c2f\" y=\"182.673356\"/>\n     <use style=\"fill:#1f77b4;stroke:#1f77b4;\" x=\"131.937338\" xlink:href=\"#m5944013c2f\" y=\"201.819667\"/>\n     <use style=\"fill:#1f77b4;stroke:#1f77b4;\" x=\"203.908117\" xlink:href=\"#m5944013c2f\" y=\"176.463741\"/>\n     <use style=\"fill:#1f77b4;stroke:#1f77b4;\" x=\"192.336688\" xlink:href=\"#m5944013c2f\" y=\"174.39387\"/>\n     <use style=\"fill:#1f77b4;stroke:#1f77b4;\" x=\"196.369156\" xlink:href=\"#m5944013c2f\" y=\"156.799962\"/>\n     <use style=\"fill:#1f77b4;stroke:#1f77b4;\" x=\"148.15487\" xlink:href=\"#m5944013c2f\" y=\"180.603484\"/>\n     <use style=\"fill:#1f77b4;stroke:#1f77b4;\" x=\"142.456818\" xlink:href=\"#m5944013c2f\" y=\"195.092584\"/>\n     <use style=\"fill:#1f77b4;stroke:#1f77b4;\" x=\"193.125649\" xlink:href=\"#m5944013c2f\" y=\"182.155888\"/>\n     <use style=\"fill:#1f77b4;stroke:#1f77b4;\" x=\"158.674351\" xlink:href=\"#m5944013c2f\" y=\"185.778163\"/>\n     <use style=\"fill:#1f77b4;stroke:#1f77b4;\" x=\"203.557468\" xlink:href=\"#m5944013c2f\" y=\"187.330566\"/>\n     <use style=\"fill:#1f77b4;stroke:#1f77b4;\" x=\"151.223052\" xlink:href=\"#m5944013c2f\" y=\"206.994346\"/>\n     <use style=\"fill:#1f77b4;stroke:#1f77b4;\" x=\"176.995779\" xlink:href=\"#m5944013c2f\" y=\"183.708291\"/>\n     <use style=\"fill:#1f77b4;stroke:#1f77b4;\" x=\"179.012013\" xlink:href=\"#m5944013c2f\" y=\"203.37207\"/>\n     <use style=\"fill:#1f77b4;stroke:#1f77b4;\" x=\"77.762013\" xlink:href=\"#m5944013c2f\" y=\"201.302199\"/>\n     <use style=\"fill:#1f77b4;stroke:#1f77b4;\" x=\"111.424351\" xlink:href=\"#m5944013c2f\" y=\"206.476878\"/>\n     <use style=\"fill:#1f77b4;stroke:#1f77b4;\" x=\"117.122403\" xlink:href=\"#m5944013c2f\" y=\"195.092584\"/>\n     <use style=\"fill:#1f77b4;stroke:#1f77b4;\" x=\"67.593182\" xlink:href=\"#m5944013c2f\" y=\"214.756364\"/>\n     <use style=\"fill:#1f77b4;stroke:#1f77b4;\" x=\"175.15487\" xlink:href=\"#m5944013c2f\" y=\"204.407006\"/>\n     <use style=\"fill:#1f77b4;stroke:#1f77b4;\" x=\"131.148377\" xlink:href=\"#m5944013c2f\" y=\"195.092584\"/>\n     <use style=\"fill:#1f77b4;stroke:#1f77b4;\" x=\"69.609416\" xlink:href=\"#m5944013c2f\" y=\"200.267263\"/>\n     <use style=\"fill:#1f77b4;stroke:#1f77b4;\" x=\"92.401623\" xlink:href=\"#m5944013c2f\" y=\"183.708291\"/>\n     <use style=\"fill:#1f77b4;stroke:#1f77b4;\" x=\"128.430844\" xlink:href=\"#m5944013c2f\" y=\"196.12752\"/>\n     <use style=\"fill:#1f77b4;stroke:#1f77b4;\" x=\"174.453571\" xlink:href=\"#m5944013c2f\" y=\"164.56198\"/>\n     <use style=\"fill:#1f77b4;stroke:#1f77b4;\" x=\"111.512013\" xlink:href=\"#m5944013c2f\" y=\"174.39387\"/>\n     <use style=\"fill:#1f77b4;stroke:#1f77b4;\" x=\"77.148377\" xlink:href=\"#m5944013c2f\" y=\"196.644988\"/>\n     <use style=\"fill:#1f77b4;stroke:#1f77b4;\" x=\"138.249026\" xlink:href=\"#m5944013c2f\" y=\"175.428805\"/>\n     <use style=\"fill:#1f77b4;stroke:#1f77b4;\" x=\"175.067208\" xlink:href=\"#m5944013c2f\" y=\"187.848034\"/>\n     <use style=\"fill:#1f77b4;stroke:#1f77b4;\" x=\"177.083442\" xlink:href=\"#m5944013c2f\" y=\"195.092584\"/>\n     <use style=\"fill:#1f77b4;stroke:#1f77b4;\" x=\"99.940584\" xlink:href=\"#m5944013c2f\" y=\"208.029281\"/>\n     <use style=\"fill:#1f77b4;stroke:#1f77b4;\" x=\"246.424351\" xlink:href=\"#m5944013c2f\" y=\"62.103341\"/>\n     <use style=\"fill:#1f77b4;stroke:#1f77b4;\" x=\"169.544481\" xlink:href=\"#m5944013c2f\" y=\"150.07288\"/>\n     <use style=\"fill:#1f77b4;stroke:#1f77b4;\" x=\"208.466558\" xlink:href=\"#m5944013c2f\" y=\"155.247558\"/>\n     <use style=\"fill:#1f77b4;stroke:#1f77b4;\" x=\"185.674351\" xlink:href=\"#m5944013c2f\" y=\"136.101247\"/>\n     <use style=\"fill:#1f77b4;stroke:#1f77b4;\" x=\"294.287987\" xlink:href=\"#m5944013c2f\" y=\"17.083636\"/>\n     <use style=\"fill:#1f77b4;stroke:#1f77b4;\" x=\"321.726299\" xlink:href=\"#m5944013c2f\" y=\"17.083636\"/>\n     <use style=\"fill:#1f77b4;stroke:#1f77b4;\" x=\"371.956818\" xlink:href=\"#m5944013c2f\" y=\"17.083636\"/>\n     <use style=\"fill:#1f77b4;stroke:#1f77b4;\" x=\"150.960065\" xlink:href=\"#m5944013c2f\" y=\"158.352366\"/>\n     <use style=\"fill:#1f77b4;stroke:#1f77b4;\" x=\"172.612662\" xlink:href=\"#m5944013c2f\" y=\"146.450604\"/>\n     <use style=\"fill:#1f77b4;stroke:#1f77b4;\" x=\"332.859416\" xlink:href=\"#m5944013c2f\" y=\"17.083636\"/>\n     <use style=\"fill:#1f77b4;stroke:#1f77b4;\" x=\"152.976299\" xlink:href=\"#m5944013c2f\" y=\"152.660219\"/>\n     <use style=\"fill:#1f77b4;stroke:#1f77b4;\" x=\"191.723052\" xlink:href=\"#m5944013c2f\" y=\"152.660219\"/>\n     <use style=\"fill:#1f77b4;stroke:#1f77b4;\" x=\"198.999026\" xlink:href=\"#m5944013c2f\" y=\"160.422237\"/>\n     <use style=\"fill:#1f77b4;stroke:#1f77b4;\" x=\"152.800974\" xlink:href=\"#m5944013c2f\" y=\"185.778163\"/>\n     <use style=\"fill:#1f77b4;stroke:#1f77b4;\" x=\"153.239286\" xlink:href=\"#m5944013c2f\" y=\"176.981209\"/>\n     <use style=\"fill:#1f77b4;stroke:#1f77b4;\" x=\"126.239286\" xlink:href=\"#m5944013c2f\" y=\"156.282494\"/>\n     <use style=\"fill:#1f77b4;stroke:#1f77b4;\" x=\"200.226299\" xlink:href=\"#m5944013c2f\" y=\"153.695155\"/>\n     <use style=\"fill:#1f77b4;stroke:#1f77b4;\" x=\"151.398377\" xlink:href=\"#m5944013c2f\" y=\"158.869833\"/>\n     <use style=\"fill:#1f77b4;stroke:#1f77b4;\" x=\"211.622403\" xlink:href=\"#m5944013c2f\" y=\"123.682018\"/>\n     <use style=\"fill:#1f77b4;stroke:#1f77b4;\" x=\"165.512013\" xlink:href=\"#m5944013c2f\" y=\"155.765026\"/>\n     <use style=\"fill:#1f77b4;stroke:#1f77b4;\" x=\"191.372403\" xlink:href=\"#m5944013c2f\" y=\"148.520476\"/>\n     <use style=\"fill:#1f77b4;stroke:#1f77b4;\" x=\"239.148377\" xlink:href=\"#m5944013c2f\" y=\"121.094679\"/>\n     <use style=\"fill:#1f77b4;stroke:#1f77b4;\" x=\"249.667857\" xlink:href=\"#m5944013c2f\" y=\"83.319524\"/>\n     <use style=\"fill:#1f77b4;stroke:#1f77b4;\" x=\"318.482792\" xlink:href=\"#m5944013c2f\" y=\"69.865359\"/>\n     <use style=\"fill:#1f77b4;stroke:#1f77b4;\" x=\"176.382143\" xlink:href=\"#m5944013c2f\" y=\"88.494203\"/>\n     <use style=\"fill:#1f77b4;stroke:#1f77b4;\" x=\"265.008766\" xlink:href=\"#m5944013c2f\" y=\"79.697249\"/>\n     <use style=\"fill:#1f77b4;stroke:#1f77b4;\" x=\"213.112662\" xlink:href=\"#m5944013c2f\" y=\"107.640514\"/>\n     <use style=\"fill:#1f77b4;stroke:#1f77b4;\" x=\"129.044481\" xlink:href=\"#m5944013c2f\" y=\"139.206054\"/>\n     <use style=\"fill:#1f77b4;stroke:#1f77b4;\" x=\"177.171104\" xlink:href=\"#m5944013c2f\" y=\"122.647082\"/>\n     <use style=\"fill:#1f77b4;stroke:#1f77b4;\" x=\"324.268506\" xlink:href=\"#m5944013c2f\" y=\"17.083636\"/>\n     <use style=\"fill:#1f77b4;stroke:#1f77b4;\" x=\"232.310714\" xlink:href=\"#m5944013c2f\" y=\"110.227853\"/>\n     <use style=\"fill:#1f77b4;stroke:#1f77b4;\" x=\"212.499026\" xlink:href=\"#m5944013c2f\" y=\"121.612147\"/>\n     <use style=\"fill:#1f77b4;stroke:#1f77b4;\" x=\"267.638636\" xlink:href=\"#m5944013c2f\" y=\"95.221285\"/>\n     <use style=\"fill:#1f77b4;stroke:#1f77b4;\" x=\"247.125649\" xlink:href=\"#m5944013c2f\" y=\"84.35446\"/>\n     <use style=\"fill:#1f77b4;stroke:#1f77b4;\" x=\"228.541234\" xlink:href=\"#m5944013c2f\" y=\"117.989871\"/>\n     <use style=\"fill:#1f77b4;stroke:#1f77b4;\" x=\"267.025\" xlink:href=\"#m5944013c2f\" y=\"87.459267\"/>\n     <use style=\"fill:#1f77b4;stroke:#1f77b4;\" x=\"233.888636\" xlink:href=\"#m5944013c2f\" y=\"114.885064\"/>\n     <use style=\"fill:#1f77b4;stroke:#1f77b4;\" x=\"216.706818\" xlink:href=\"#m5944013c2f\" y=\"125.234422\"/>\n     <use style=\"fill:#1f77b4;stroke:#1f77b4;\" x=\"328.125649\" xlink:href=\"#m5944013c2f\" y=\"17.083636\"/>\n     <use style=\"fill:#1f77b4;stroke:#1f77b4;\" x=\"276.580195\" xlink:href=\"#m5944013c2f\" y=\"103.500771\"/>\n     <use style=\"fill:#1f77b4;stroke:#1f77b4;\" x=\"260.800974\" xlink:href=\"#m5944013c2f\" y=\"119.024807\"/>\n     <use style=\"fill:#1f77b4;stroke:#1f77b4;\" x=\"275.440584\" xlink:href=\"#m5944013c2f\" y=\"96.773689\"/>\n     <use style=\"fill:#1f77b4;stroke:#1f77b4;\" x=\"249.229545\" xlink:href=\"#m5944013c2f\" y=\"95.221285\"/>\n    </g>\n   </g>\n   <g id=\"matplotlib.axis_1\">\n    <g id=\"xtick_1\">\n     <g id=\"line2d_1\">\n      <path clip-path=\"url(#pd8bbc4c611)\" d=\"M 76.096429 224.64 \nL 76.096429 7.2 \n\" style=\"fill:none;stroke:#b0b0b0;stroke-linecap:square;stroke-width:0.8;\"/>\n     </g>\n     <g id=\"line2d_2\">\n      <defs>\n       <path d=\"M 0 0 \nL 0 3.5 \n\" id=\"mc58b415438\" style=\"stroke:#000000;stroke-width:0.8;\"/>\n      </defs>\n      <g>\n       <use style=\"stroke:#000000;stroke-width:0.8;\" x=\"76.096429\" xlink:href=\"#mc58b415438\" y=\"224.64\"/>\n      </g>\n     </g>\n     <g id=\"text_1\">\n      <!-- 30 -->\n      <g transform=\"translate(69.733929 239.238437)scale(0.1 -0.1)\">\n       <defs>\n        <path d=\"M 40.578125 39.3125 \nQ 47.65625 37.796875 51.625 33 \nQ 55.609375 28.21875 55.609375 21.1875 \nQ 55.609375 10.40625 48.1875 4.484375 \nQ 40.765625 -1.421875 27.09375 -1.421875 \nQ 22.515625 -1.421875 17.65625 -0.515625 \nQ 12.796875 0.390625 7.625 2.203125 \nL 7.625 11.71875 \nQ 11.71875 9.328125 16.59375 8.109375 \nQ 21.484375 6.890625 26.8125 6.890625 \nQ 36.078125 6.890625 40.9375 10.546875 \nQ 45.796875 14.203125 45.796875 21.1875 \nQ 45.796875 27.640625 41.28125 31.265625 \nQ 36.765625 34.90625 28.71875 34.90625 \nL 20.21875 34.90625 \nL 20.21875 43.015625 \nL 29.109375 43.015625 \nQ 36.375 43.015625 40.234375 45.921875 \nQ 44.09375 48.828125 44.09375 54.296875 \nQ 44.09375 59.90625 40.109375 62.90625 \nQ 36.140625 65.921875 28.71875 65.921875 \nQ 24.65625 65.921875 20.015625 65.03125 \nQ 15.375 64.15625 9.8125 62.3125 \nL 9.8125 71.09375 \nQ 15.4375 72.65625 20.34375 73.4375 \nQ 25.25 74.21875 29.59375 74.21875 \nQ 40.828125 74.21875 47.359375 69.109375 \nQ 53.90625 64.015625 53.90625 55.328125 \nQ 53.90625 49.265625 50.4375 45.09375 \nQ 46.96875 40.921875 40.578125 39.3125 \nz\n\" id=\"DejaVuSans-51\"/>\n        <path d=\"M 31.78125 66.40625 \nQ 24.171875 66.40625 20.328125 58.90625 \nQ 16.5 51.421875 16.5 36.375 \nQ 16.5 21.390625 20.328125 13.890625 \nQ 24.171875 6.390625 31.78125 6.390625 \nQ 39.453125 6.390625 43.28125 13.890625 \nQ 47.125 21.390625 47.125 36.375 \nQ 47.125 51.421875 43.28125 58.90625 \nQ 39.453125 66.40625 31.78125 66.40625 \nz\nM 31.78125 74.21875 \nQ 44.046875 74.21875 50.515625 64.515625 \nQ 56.984375 54.828125 56.984375 36.375 \nQ 56.984375 17.96875 50.515625 8.265625 \nQ 44.046875 -1.421875 31.78125 -1.421875 \nQ 19.53125 -1.421875 13.0625 8.265625 \nQ 6.59375 17.96875 6.59375 36.375 \nQ 6.59375 54.828125 13.0625 64.515625 \nQ 19.53125 74.21875 31.78125 74.21875 \nz\n\" id=\"DejaVuSans-48\"/>\n       </defs>\n       <use xlink:href=\"#DejaVuSans-51\"/>\n       <use x=\"63.623047\" xlink:href=\"#DejaVuSans-48\"/>\n      </g>\n     </g>\n    </g>\n    <g id=\"xtick_2\">\n     <g id=\"line2d_3\">\n      <path clip-path=\"url(#pd8bbc4c611)\" d=\"M 149.148377 224.64 \nL 149.148377 7.2 \n\" style=\"fill:none;stroke:#b0b0b0;stroke-linecap:square;stroke-width:0.8;\"/>\n     </g>\n     <g id=\"line2d_4\">\n      <g>\n       <use style=\"stroke:#000000;stroke-width:0.8;\" x=\"149.148377\" xlink:href=\"#mc58b415438\" y=\"224.64\"/>\n      </g>\n     </g>\n     <g id=\"text_2\">\n      <!-- 35 -->\n      <g transform=\"translate(142.785877 239.238437)scale(0.1 -0.1)\">\n       <defs>\n        <path d=\"M 10.796875 72.90625 \nL 49.515625 72.90625 \nL 49.515625 64.59375 \nL 19.828125 64.59375 \nL 19.828125 46.734375 \nQ 21.96875 47.46875 24.109375 47.828125 \nQ 26.265625 48.1875 28.421875 48.1875 \nQ 40.625 48.1875 47.75 41.5 \nQ 54.890625 34.8125 54.890625 23.390625 \nQ 54.890625 11.625 47.5625 5.09375 \nQ 40.234375 -1.421875 26.90625 -1.421875 \nQ 22.3125 -1.421875 17.546875 -0.640625 \nQ 12.796875 0.140625 7.71875 1.703125 \nL 7.71875 11.625 \nQ 12.109375 9.234375 16.796875 8.0625 \nQ 21.484375 6.890625 26.703125 6.890625 \nQ 35.15625 6.890625 40.078125 11.328125 \nQ 45.015625 15.765625 45.015625 23.390625 \nQ 45.015625 31 40.078125 35.4375 \nQ 35.15625 39.890625 26.703125 39.890625 \nQ 22.75 39.890625 18.8125 39.015625 \nQ 14.890625 38.140625 10.796875 36.28125 \nz\n\" id=\"DejaVuSans-53\"/>\n       </defs>\n       <use xlink:href=\"#DejaVuSans-51\"/>\n       <use x=\"63.623047\" xlink:href=\"#DejaVuSans-53\"/>\n      </g>\n     </g>\n    </g>\n    <g id=\"xtick_3\">\n     <g id=\"line2d_5\">\n      <path clip-path=\"url(#pd8bbc4c611)\" d=\"M 222.200325 224.64 \nL 222.200325 7.2 \n\" style=\"fill:none;stroke:#b0b0b0;stroke-linecap:square;stroke-width:0.8;\"/>\n     </g>\n     <g id=\"line2d_6\">\n      <g>\n       <use style=\"stroke:#000000;stroke-width:0.8;\" x=\"222.200325\" xlink:href=\"#mc58b415438\" y=\"224.64\"/>\n      </g>\n     </g>\n     <g id=\"text_3\">\n      <!-- 40 -->\n      <g transform=\"translate(215.837825 239.238437)scale(0.1 -0.1)\">\n       <defs>\n        <path d=\"M 37.796875 64.3125 \nL 12.890625 25.390625 \nL 37.796875 25.390625 \nz\nM 35.203125 72.90625 \nL 47.609375 72.90625 \nL 47.609375 25.390625 \nL 58.015625 25.390625 \nL 58.015625 17.1875 \nL 47.609375 17.1875 \nL 47.609375 0 \nL 37.796875 0 \nL 37.796875 17.1875 \nL 4.890625 17.1875 \nL 4.890625 26.703125 \nz\n\" id=\"DejaVuSans-52\"/>\n       </defs>\n       <use xlink:href=\"#DejaVuSans-52\"/>\n       <use x=\"63.623047\" xlink:href=\"#DejaVuSans-48\"/>\n      </g>\n     </g>\n    </g>\n    <g id=\"xtick_4\">\n     <g id=\"line2d_7\">\n      <path clip-path=\"url(#pd8bbc4c611)\" d=\"M 295.252273 224.64 \nL 295.252273 7.2 \n\" style=\"fill:none;stroke:#b0b0b0;stroke-linecap:square;stroke-width:0.8;\"/>\n     </g>\n     <g id=\"line2d_8\">\n      <g>\n       <use style=\"stroke:#000000;stroke-width:0.8;\" x=\"295.252273\" xlink:href=\"#mc58b415438\" y=\"224.64\"/>\n      </g>\n     </g>\n     <g id=\"text_4\">\n      <!-- 45 -->\n      <g transform=\"translate(288.889773 239.238437)scale(0.1 -0.1)\">\n       <use xlink:href=\"#DejaVuSans-52\"/>\n       <use x=\"63.623047\" xlink:href=\"#DejaVuSans-53\"/>\n      </g>\n     </g>\n    </g>\n    <g id=\"xtick_5\">\n     <g id=\"line2d_9\">\n      <path clip-path=\"url(#pd8bbc4c611)\" d=\"M 368.304221 224.64 \nL 368.304221 7.2 \n\" style=\"fill:none;stroke:#b0b0b0;stroke-linecap:square;stroke-width:0.8;\"/>\n     </g>\n     <g id=\"line2d_10\">\n      <g>\n       <use style=\"stroke:#000000;stroke-width:0.8;\" x=\"368.304221\" xlink:href=\"#mc58b415438\" y=\"224.64\"/>\n      </g>\n     </g>\n     <g id=\"text_5\">\n      <!-- 50 -->\n      <g transform=\"translate(361.941721 239.238437)scale(0.1 -0.1)\">\n       <use xlink:href=\"#DejaVuSans-53\"/>\n       <use x=\"63.623047\" xlink:href=\"#DejaVuSans-48\"/>\n      </g>\n     </g>\n    </g>\n   </g>\n   <g id=\"matplotlib.axis_2\">\n    <g id=\"ytick_1\">\n     <g id=\"line2d_11\">\n      <path clip-path=\"url(#pd8bbc4c611)\" d=\"M 52.375 224.070785 \nL 387.175 224.070785 \n\" style=\"fill:none;stroke:#b0b0b0;stroke-linecap:square;stroke-width:0.8;\"/>\n     </g>\n     <g id=\"line2d_12\">\n      <defs>\n       <path d=\"M 0 0 \nL -3.5 0 \n\" id=\"ma494d198d5\" style=\"stroke:#000000;stroke-width:0.8;\"/>\n      </defs>\n      <g>\n       <use style=\"stroke:#000000;stroke-width:0.8;\" x=\"52.375\" xlink:href=\"#ma494d198d5\" y=\"224.070785\"/>\n      </g>\n     </g>\n     <g id=\"text_6\">\n      <!-- 50000 -->\n      <g transform=\"translate(13.5625 227.870004)scale(0.1 -0.1)\">\n       <use xlink:href=\"#DejaVuSans-53\"/>\n       <use x=\"63.623047\" xlink:href=\"#DejaVuSans-48\"/>\n       <use x=\"127.246094\" xlink:href=\"#DejaVuSans-48\"/>\n       <use x=\"190.869141\" xlink:href=\"#DejaVuSans-48\"/>\n       <use x=\"254.492188\" xlink:href=\"#DejaVuSans-48\"/>\n      </g>\n     </g>\n    </g>\n    <g id=\"ytick_2\">\n     <g id=\"line2d_13\">\n      <path clip-path=\"url(#pd8bbc4c611)\" d=\"M 52.375 198.197392 \nL 387.175 198.197392 \n\" style=\"fill:none;stroke:#b0b0b0;stroke-linecap:square;stroke-width:0.8;\"/>\n     </g>\n     <g id=\"line2d_14\">\n      <g>\n       <use style=\"stroke:#000000;stroke-width:0.8;\" x=\"52.375\" xlink:href=\"#ma494d198d5\" y=\"198.197392\"/>\n      </g>\n     </g>\n     <g id=\"text_7\">\n      <!-- 75000 -->\n      <g transform=\"translate(13.5625 201.99661)scale(0.1 -0.1)\">\n       <defs>\n        <path d=\"M 8.203125 72.90625 \nL 55.078125 72.90625 \nL 55.078125 68.703125 \nL 28.609375 0 \nL 18.3125 0 \nL 43.21875 64.59375 \nL 8.203125 64.59375 \nz\n\" id=\"DejaVuSans-55\"/>\n       </defs>\n       <use xlink:href=\"#DejaVuSans-55\"/>\n       <use x=\"63.623047\" xlink:href=\"#DejaVuSans-53\"/>\n       <use x=\"127.246094\" xlink:href=\"#DejaVuSans-48\"/>\n       <use x=\"190.869141\" xlink:href=\"#DejaVuSans-48\"/>\n       <use x=\"254.492188\" xlink:href=\"#DejaVuSans-48\"/>\n      </g>\n     </g>\n    </g>\n    <g id=\"ytick_3\">\n     <g id=\"line2d_15\">\n      <path clip-path=\"url(#pd8bbc4c611)\" d=\"M 52.375 172.323998 \nL 387.175 172.323998 \n\" style=\"fill:none;stroke:#b0b0b0;stroke-linecap:square;stroke-width:0.8;\"/>\n     </g>\n     <g id=\"line2d_16\">\n      <g>\n       <use style=\"stroke:#000000;stroke-width:0.8;\" x=\"52.375\" xlink:href=\"#ma494d198d5\" y=\"172.323998\"/>\n      </g>\n     </g>\n     <g id=\"text_8\">\n      <!-- 100000 -->\n      <g transform=\"translate(7.2 176.123217)scale(0.1 -0.1)\">\n       <defs>\n        <path d=\"M 12.40625 8.296875 \nL 28.515625 8.296875 \nL 28.515625 63.921875 \nL 10.984375 60.40625 \nL 10.984375 69.390625 \nL 28.421875 72.90625 \nL 38.28125 72.90625 \nL 38.28125 8.296875 \nL 54.390625 8.296875 \nL 54.390625 0 \nL 12.40625 0 \nz\n\" id=\"DejaVuSans-49\"/>\n       </defs>\n       <use xlink:href=\"#DejaVuSans-49\"/>\n       <use x=\"63.623047\" xlink:href=\"#DejaVuSans-48\"/>\n       <use x=\"127.246094\" xlink:href=\"#DejaVuSans-48\"/>\n       <use x=\"190.869141\" xlink:href=\"#DejaVuSans-48\"/>\n       <use x=\"254.492188\" xlink:href=\"#DejaVuSans-48\"/>\n       <use x=\"318.115234\" xlink:href=\"#DejaVuSans-48\"/>\n      </g>\n     </g>\n    </g>\n    <g id=\"ytick_4\">\n     <g id=\"line2d_17\">\n      <path clip-path=\"url(#pd8bbc4c611)\" d=\"M 52.375 146.450604 \nL 387.175 146.450604 \n\" style=\"fill:none;stroke:#b0b0b0;stroke-linecap:square;stroke-width:0.8;\"/>\n     </g>\n     <g id=\"line2d_18\">\n      <g>\n       <use style=\"stroke:#000000;stroke-width:0.8;\" x=\"52.375\" xlink:href=\"#ma494d198d5\" y=\"146.450604\"/>\n      </g>\n     </g>\n     <g id=\"text_9\">\n      <!-- 125000 -->\n      <g transform=\"translate(7.2 150.249823)scale(0.1 -0.1)\">\n       <defs>\n        <path d=\"M 19.1875 8.296875 \nL 53.609375 8.296875 \nL 53.609375 0 \nL 7.328125 0 \nL 7.328125 8.296875 \nQ 12.9375 14.109375 22.625 23.890625 \nQ 32.328125 33.6875 34.8125 36.53125 \nQ 39.546875 41.84375 41.421875 45.53125 \nQ 43.3125 49.21875 43.3125 52.78125 \nQ 43.3125 58.59375 39.234375 62.25 \nQ 35.15625 65.921875 28.609375 65.921875 \nQ 23.96875 65.921875 18.8125 64.3125 \nQ 13.671875 62.703125 7.8125 59.421875 \nL 7.8125 69.390625 \nQ 13.765625 71.78125 18.9375 73 \nQ 24.125 74.21875 28.421875 74.21875 \nQ 39.75 74.21875 46.484375 68.546875 \nQ 53.21875 62.890625 53.21875 53.421875 \nQ 53.21875 48.921875 51.53125 44.890625 \nQ 49.859375 40.875 45.40625 35.40625 \nQ 44.1875 33.984375 37.640625 27.21875 \nQ 31.109375 20.453125 19.1875 8.296875 \nz\n\" id=\"DejaVuSans-50\"/>\n       </defs>\n       <use xlink:href=\"#DejaVuSans-49\"/>\n       <use x=\"63.623047\" xlink:href=\"#DejaVuSans-50\"/>\n       <use x=\"127.246094\" xlink:href=\"#DejaVuSans-53\"/>\n       <use x=\"190.869141\" xlink:href=\"#DejaVuSans-48\"/>\n       <use x=\"254.492188\" xlink:href=\"#DejaVuSans-48\"/>\n       <use x=\"318.115234\" xlink:href=\"#DejaVuSans-48\"/>\n      </g>\n     </g>\n    </g>\n    <g id=\"ytick_5\">\n     <g id=\"line2d_19\">\n      <path clip-path=\"url(#pd8bbc4c611)\" d=\"M 52.375 120.577211 \nL 387.175 120.577211 \n\" style=\"fill:none;stroke:#b0b0b0;stroke-linecap:square;stroke-width:0.8;\"/>\n     </g>\n     <g id=\"line2d_20\">\n      <g>\n       <use style=\"stroke:#000000;stroke-width:0.8;\" x=\"52.375\" xlink:href=\"#ma494d198d5\" y=\"120.577211\"/>\n      </g>\n     </g>\n     <g id=\"text_10\">\n      <!-- 150000 -->\n      <g transform=\"translate(7.2 124.37643)scale(0.1 -0.1)\">\n       <use xlink:href=\"#DejaVuSans-49\"/>\n       <use x=\"63.623047\" xlink:href=\"#DejaVuSans-53\"/>\n       <use x=\"127.246094\" xlink:href=\"#DejaVuSans-48\"/>\n       <use x=\"190.869141\" xlink:href=\"#DejaVuSans-48\"/>\n       <use x=\"254.492188\" xlink:href=\"#DejaVuSans-48\"/>\n       <use x=\"318.115234\" xlink:href=\"#DejaVuSans-48\"/>\n      </g>\n     </g>\n    </g>\n    <g id=\"ytick_6\">\n     <g id=\"line2d_21\">\n      <path clip-path=\"url(#pd8bbc4c611)\" d=\"M 52.375 94.703817 \nL 387.175 94.703817 \n\" style=\"fill:none;stroke:#b0b0b0;stroke-linecap:square;stroke-width:0.8;\"/>\n     </g>\n     <g id=\"line2d_22\">\n      <g>\n       <use style=\"stroke:#000000;stroke-width:0.8;\" x=\"52.375\" xlink:href=\"#ma494d198d5\" y=\"94.703817\"/>\n      </g>\n     </g>\n     <g id=\"text_11\">\n      <!-- 175000 -->\n      <g transform=\"translate(7.2 98.503036)scale(0.1 -0.1)\">\n       <use xlink:href=\"#DejaVuSans-49\"/>\n       <use x=\"63.623047\" xlink:href=\"#DejaVuSans-55\"/>\n       <use x=\"127.246094\" xlink:href=\"#DejaVuSans-53\"/>\n       <use x=\"190.869141\" xlink:href=\"#DejaVuSans-48\"/>\n       <use x=\"254.492188\" xlink:href=\"#DejaVuSans-48\"/>\n       <use x=\"318.115234\" xlink:href=\"#DejaVuSans-48\"/>\n      </g>\n     </g>\n    </g>\n    <g id=\"ytick_7\">\n     <g id=\"line2d_23\">\n      <path clip-path=\"url(#pd8bbc4c611)\" d=\"M 52.375 68.830424 \nL 387.175 68.830424 \n\" style=\"fill:none;stroke:#b0b0b0;stroke-linecap:square;stroke-width:0.8;\"/>\n     </g>\n     <g id=\"line2d_24\">\n      <g>\n       <use style=\"stroke:#000000;stroke-width:0.8;\" x=\"52.375\" xlink:href=\"#ma494d198d5\" y=\"68.830424\"/>\n      </g>\n     </g>\n     <g id=\"text_12\">\n      <!-- 200000 -->\n      <g transform=\"translate(7.2 72.629642)scale(0.1 -0.1)\">\n       <use xlink:href=\"#DejaVuSans-50\"/>\n       <use x=\"63.623047\" xlink:href=\"#DejaVuSans-48\"/>\n       <use x=\"127.246094\" xlink:href=\"#DejaVuSans-48\"/>\n       <use x=\"190.869141\" xlink:href=\"#DejaVuSans-48\"/>\n       <use x=\"254.492188\" xlink:href=\"#DejaVuSans-48\"/>\n       <use x=\"318.115234\" xlink:href=\"#DejaVuSans-48\"/>\n      </g>\n     </g>\n    </g>\n    <g id=\"ytick_8\">\n     <g id=\"line2d_25\">\n      <path clip-path=\"url(#pd8bbc4c611)\" d=\"M 52.375 42.95703 \nL 387.175 42.95703 \n\" style=\"fill:none;stroke:#b0b0b0;stroke-linecap:square;stroke-width:0.8;\"/>\n     </g>\n     <g id=\"line2d_26\">\n      <g>\n       <use style=\"stroke:#000000;stroke-width:0.8;\" x=\"52.375\" xlink:href=\"#ma494d198d5\" y=\"42.95703\"/>\n      </g>\n     </g>\n     <g id=\"text_13\">\n      <!-- 225000 -->\n      <g transform=\"translate(7.2 46.756249)scale(0.1 -0.1)\">\n       <use xlink:href=\"#DejaVuSans-50\"/>\n       <use x=\"63.623047\" xlink:href=\"#DejaVuSans-50\"/>\n       <use x=\"127.246094\" xlink:href=\"#DejaVuSans-53\"/>\n       <use x=\"190.869141\" xlink:href=\"#DejaVuSans-48\"/>\n       <use x=\"254.492188\" xlink:href=\"#DejaVuSans-48\"/>\n       <use x=\"318.115234\" xlink:href=\"#DejaVuSans-48\"/>\n      </g>\n     </g>\n    </g>\n    <g id=\"ytick_9\">\n     <g id=\"line2d_27\">\n      <path clip-path=\"url(#pd8bbc4c611)\" d=\"M 52.375 17.083636 \nL 387.175 17.083636 \n\" style=\"fill:none;stroke:#b0b0b0;stroke-linecap:square;stroke-width:0.8;\"/>\n     </g>\n     <g id=\"line2d_28\">\n      <g>\n       <use style=\"stroke:#000000;stroke-width:0.8;\" x=\"52.375\" xlink:href=\"#ma494d198d5\" y=\"17.083636\"/>\n      </g>\n     </g>\n     <g id=\"text_14\">\n      <!-- 250000 -->\n      <g transform=\"translate(7.2 20.882855)scale(0.1 -0.1)\">\n       <use xlink:href=\"#DejaVuSans-50\"/>\n       <use x=\"63.623047\" xlink:href=\"#DejaVuSans-53\"/>\n       <use x=\"127.246094\" xlink:href=\"#DejaVuSans-48\"/>\n       <use x=\"190.869141\" xlink:href=\"#DejaVuSans-48\"/>\n       <use x=\"254.492188\" xlink:href=\"#DejaVuSans-48\"/>\n       <use x=\"318.115234\" xlink:href=\"#DejaVuSans-48\"/>\n      </g>\n     </g>\n    </g>\n   </g>\n   <g id=\"patch_3\">\n    <path d=\"M 52.375 224.64 \nL 52.375 7.2 \n\" style=\"fill:none;stroke:#000000;stroke-linecap:square;stroke-linejoin:miter;stroke-width:0.8;\"/>\n   </g>\n   <g id=\"patch_4\">\n    <path d=\"M 387.175 224.64 \nL 387.175 7.2 \n\" style=\"fill:none;stroke:#000000;stroke-linecap:square;stroke-linejoin:miter;stroke-width:0.8;\"/>\n   </g>\n   <g id=\"patch_5\">\n    <path d=\"M 52.375 224.64 \nL 387.175 224.64 \n\" style=\"fill:none;stroke:#000000;stroke-linecap:square;stroke-linejoin:miter;stroke-width:0.8;\"/>\n   </g>\n   <g id=\"patch_6\">\n    <path d=\"M 52.375 7.2 \nL 387.175 7.2 \n\" style=\"fill:none;stroke:#000000;stroke-linecap:square;stroke-linejoin:miter;stroke-width:0.8;\"/>\n   </g>\n  </g>\n </g>\n <defs>\n  <clipPath id=\"pd8bbc4c611\">\n   <rect height=\"217.44\" width=\"334.8\" x=\"52.375\" y=\"7.2\"/>\n  </clipPath>\n </defs>\n</svg>\n",
      "image/png": "[encoded data removed]"
     },
     "metadata": {
      "needs_background": "light"
     }
    }
   ],
   "source": [
    "import matplotlib.pyplot as plt \n",
    "\n",
    "#散布図\n",
    "\n",
    "plt.scatter(x,y)\n",
    "\n",
    "plt.grid()\n",
    "plt.show()\n"
   ]
  },
  {
   "cell_type": "code",
   "execution_count": null,
   "metadata": {},
   "outputs": [],
   "source": []
  }
 ]
}