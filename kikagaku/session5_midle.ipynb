{
 "metadata": {
  "language_info": {
   "codemirror_mode": {
    "name": "ipython",
    "version": 3
   },
   "file_extension": ".py",
   "mimetype": "text/x-python",
   "name": "python",
   "nbconvert_exporter": "python",
   "pygments_lexer": "ipython3",
   "version": "3.8.5"
  },
  "orig_nbformat": 2,
  "kernelspec": {
   "name": "python385jvsc74a57bd040f0aa7cb53c514384145c8233a75c82c384db7f0b9e58264fdf777852089e81",
   "display_name": "Python 3.8.5 64-bit ('3.8.5': pyenv)"
  }
 },
 "nbformat": 4,
 "nbformat_minor": 2,
 "cells": [
  {
   "source": [
    "# 重回帰分析の実装"
   ],
   "cell_type": "markdown",
   "metadata": {}
  },
  {
   "source": [
    "# 行列演算の基礎"
   ],
   "cell_type": "markdown",
   "metadata": {}
  },
  {
   "source": [
    "# $\\boldsymbol{w} = (\\boldsymbol{X}^{T}\\boldsymbol{X})^{-1}\\boldsymbol{X}^{T}\\boldsymbol{y}$"
   ],
   "cell_type": "markdown",
   "metadata": {}
  },
  {
   "source": [
    "- ベクトルの定義\n",
    "- 行列の定義\n",
    "- 転置\n",
    "- 逆行列\n",
    "- 行列積"
   ],
   "cell_type": "markdown",
   "metadata": {}
  },
  {
   "cell_type": "code",
   "execution_count": 17,
   "metadata": {},
   "outputs": [
    {
     "output_type": "stream",
     "name": "stdout",
     "text": [
      "[[1]\n [2]\n [3]]\n\n[[1 2]\n [3 4]]\n\n[[1 3]\n [2 4]]\n\n[[-2.   1. ]\n [ 1.5 -0.5]]\n\n[[1.0000000e+00 0.0000000e+00]\n [8.8817842e-16 1.0000000e+00]]\n"
     ]
    }
   ],
   "source": [
    "import numpy as np\n",
    "\n",
    "#ベクトルの定義\n",
    "x = np.array([[1],[2],[3]])\n",
    "print(x)\n",
    "\n",
    "print()\n",
    "\n",
    "#行列の定義\n",
    "X = np.array([[1, 2], [3, 4]])\n",
    "print(X)\n",
    "\n",
    "print()\n",
    "\n",
    "#転置\n",
    "Xt = X.T\n",
    "print(Xt)\n",
    "\n",
    "print()\n",
    "\n",
    "#逆行列\n",
    "#Linear algebra: 線形代数\n",
    "X_inv = np.linalg.inv(X)\n",
    "print(X_inv)\n",
    "\n",
    "\n",
    "#行列積\n",
    "XX_inv = np.dot(X,X_inv)\n",
    "print()\n",
    "\n",
    "print(XX_inv)"
   ]
  },
  {
   "source": [
    "# よくある間違い\n"
   ],
   "cell_type": "markdown",
   "metadata": {}
  },
  {
   "cell_type": "code",
   "execution_count": 25,
   "metadata": {},
   "outputs": [
    {
     "output_type": "stream",
     "name": "stdout",
     "text": [
      "[1 2 3]\n<class 'numpy.ndarray'>\n[[1]\n [2]\n [3]]\n"
     ]
    }
   ],
   "source": [
    "x = np.array([1, 2, 3])\n",
    "print(x.T) #これだと転置しない\n",
    "print(type(x))\n",
    "\n",
    "\n",
    "x = np.array([[1, 2, 3]])\n",
    "print(x.T)"
   ]
  },
  {
   "source": [
    "# Numpyでよく使う機能"
   ],
   "cell_type": "markdown",
   "metadata": {}
  },
  {
   "cell_type": "code",
   "execution_count": 32,
   "metadata": {},
   "outputs": [
    {
     "output_type": "stream",
     "name": "stdout",
     "text": [
      "(2, 3)\n2\n3\n\n[2 3 4]\n-----\n[1 2 3]\n-----\n"
     ]
    }
   ],
   "source": [
    "X = np.array([\n",
    "    [2, 3, 4],\n",
    "    [1, 2, 3]\n",
    "])\n",
    "\n",
    "print(X.shape) #行数と列数がわかる\n",
    "\n",
    "row, col = X.shape\n",
    "print(row)\n",
    "print(col)\n",
    "print()\n",
    "for x in X:\n",
    "    print(x)\n",
    "    print('-----')"
   ]
  },
  {
   "source": [
    "# 演習問題"
   ],
   "cell_type": "markdown",
   "metadata": {}
  },
  {
   "source": [
    " $\\boldsymbol{X} = \\begin{bmatrix}\n",
    "1 & 2 & 3 \\\\\n",
    "1 & 2 & 5 \\\\\n",
    "1 & 3 & 4 \\\\\n",
    "1 & 5 & 9 \\\\\n",
    "\\end{bmatrix}\n",
    ",\\ \\boldsymbol{y} = \\begin{bmatrix}\n",
    "1\\\\\n",
    "5\\\\\n",
    "6\\\\\n",
    "8\\\\\n",
    "\\end{bmatrix}\n",
    "$のとき\n",
    "$\\boldsymbol{w} = (\\boldsymbol{X}^{T}\\boldsymbol{X})^{-1}\\boldsymbol{X}^{T}\\boldsymbol{y}$"
   ],
   "cell_type": "markdown",
   "metadata": {}
  },
  {
   "source": [
    "- Step1: $\\boldsymbol{X}^{T}\\boldsymbol{X} $\n",
    "- Step2: $(\\boldsymbol{X}^{T}\\boldsymbol{X})^{-1}$\n",
    "- Step3: $\\boldsymbol{X}^{T}\\boldsymbol{y}$\n",
    "- Step4: $\\boldsymbol{w} = (\\boldsymbol{X}^{T}\\boldsymbol{X})^{-1}\\boldsymbol{X}^{T}\\boldsymbol{y}$"
   ],
   "cell_type": "markdown",
   "metadata": {}
  },
  {
   "cell_type": "code",
   "execution_count": 36,
   "metadata": {},
   "outputs": [
    {
     "output_type": "stream",
     "name": "stdout",
     "text": [
      "[[1 2 3]\n [1 2 5]\n [1 3 4]\n [1 5 9]]\n[[1]\n [5]\n [6]\n [8]]\n"
     ]
    }
   ],
   "source": [
    "import numpy as np \n",
    "X = np.array([\n",
    "    [1, 2, 3],\n",
    "    [1, 2, 5],\n",
    "    [1, 3, 4],\n",
    "    [1, 5, 9]\n",
    "])\n",
    "\n",
    "y = np.array([\n",
    "    [1],\n",
    "    [5],\n",
    "    [6],\n",
    "    [8]\n",
    "])\n",
    "print(X)\n",
    "print(y)"
   ]
  },
  {
   "cell_type": "code",
   "execution_count": 48,
   "metadata": {},
   "outputs": [
    {
     "output_type": "stream",
     "name": "stdout",
     "text": [
      "[[  4  12  21]\n [ 12  42  73]\n [ 21  73 131]]\n--------------------\n[[ 1.76530612 -0.39795918 -0.06122449]\n [-0.39795918  0.84693878 -0.40816327]\n [-0.06122449 -0.40816327  0.24489796]]\n--------------------\n[[ 20]\n [ 70]\n [124]]\n--------------------\n[[-0.14285714]\n [ 0.71428571]\n [ 0.57142857]]\n"
     ]
    }
   ],
   "source": [
    "#Step1\n",
    "Xt_X = np.dot(X.T,X)\n",
    "print(Xt_X)\n",
    "\n",
    "print('--------------------')\n",
    "#Step2\n",
    "Xt_X_inv = np.linalg.inv(Xt_X)\n",
    "print(Xt_X_inv)\n",
    "\n",
    "print('--------------------')\n",
    "#Step3\n",
    "Xt_y = np.dot(X.T,y)\n",
    "print(Xt_y)\n",
    "\n",
    "print('--------------------')\n",
    "#Step4\n",
    "w = np.dot(Xt_X_inv, Xt_y)\n",
    "print(w)"
   ]
  },
  {
   "source": [
    "# Scikit-learnで実装"
   ],
   "cell_type": "markdown",
   "metadata": {}
  },
  {
   "cell_type": "code",
   "execution_count": 50,
   "metadata": {},
   "outputs": [],
   "source": [
    "import sklearn"
   ]
  },
  {
   "cell_type": "code",
   "execution_count": 58,
   "metadata": {},
   "outputs": [
    {
     "output_type": "stream",
     "name": "stdout",
     "text": [
      "[[0.         0.71428571 0.57142857]]\n[-0.14285714]\n"
     ]
    }
   ],
   "source": [
    "#重回帰分析飲み読み込み\n",
    "from sklearn.linear_model import LinearRegression\n",
    "\n",
    "#モデルの宣言\n",
    "model = LinearRegression()\n",
    "\n",
    "# model = LinearRegression(fit_intercept=False)\n",
    "\n",
    "\n",
    "#モデルの学習　<-- パラメータの調整\n",
    "model.fit(X,y)\n",
    "\n",
    "#m調整後のパラメータ\n",
    "print(model.coef_)\n",
    "\n",
    "\n",
    "print(model.intercept_)"
   ]
  },
  {
   "cell_type": "code",
   "execution_count": 59,
   "metadata": {},
   "outputs": [
    {
     "output_type": "execute_result",
     "data": {
      "text/plain": [
       "0.6923076923076923"
      ]
     },
     "metadata": {},
     "execution_count": 59
    }
   ],
   "source": [
    "# 予測精度　＜ーー決定係数\n",
    "model.score(X,y)"
   ]
  },
  {
   "cell_type": "code",
   "execution_count": 62,
   "metadata": {},
   "outputs": [
    {
     "output_type": "stream",
     "name": "stdout",
     "text": [
      "[[3.]]\n"
     ]
    }
   ],
   "source": [
    "# 予測値の計算\n",
    "x = np.array([[1, 2, 3]])\n",
    "\n",
    "model.predict(x)\n",
    "y_pred = model.predict(x)\n",
    "print(y_pred)"
   ]
  },
  {
   "cell_type": "code",
   "execution_count": null,
   "metadata": {},
   "outputs": [],
   "source": []
  }
 ]
}